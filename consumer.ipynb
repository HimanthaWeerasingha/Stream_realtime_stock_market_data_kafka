{
 "cells": [
  {
   "cell_type": "code",
   "execution_count": null,
   "id": "01be928e",
   "metadata": {},
   "outputs": [],
   "source": [
    "# Import libraies\n",
    "import pandas as pd\n",
    "from kafka import KafkaConsumer\n",
    "from time import sleep\n",
    "from json import dumps,loads\n",
    "import json\n",
    "import mysql.connector\n",
    "from datetime import datetime\n",
    "\n",
    "##Connect to the mysql DB\n",
    "try:\n",
    "        connection = mysql.connector.connect(host='stockdb.cnu60g6iqlqd.eu-north-1.rds.amazonaws.com', user='admin', password='4hRmqNgg32DFbrg3WHfm', database='stockDB', port=3306)\n",
    "except:\n",
    "        print(\"Connection failed\")\n",
    "\n",
    "cursor = connection.cursor()\n",
    "\n",
    "# Define consumer object\n",
    "consumer = KafkaConsumer(\n",
    "    'stock',\n",
    "    bootstrap_servers=['113.60.70.157:9092'], \n",
    "    value_deserializer=lambda x: loads(x.decode('utf-8')))\n",
    "\n",
    "# Capture msg by msg\n",
    "for message in consumer:\n",
    "   # print(message.value)\n",
    "    \n",
    "    #Transform data\n",
    "    msg = message.value[0]\n",
    "    Index = msg['Index']\n",
    "    Date = datetime.strptime(msg['Date'], '%Y-%m-%d').date()\n",
    "    Open = msg['Open']\n",
    "    High = msg['High']\n",
    "    Low = msg['Low']\n",
    "    Close = msg['Close']\n",
    "    Adj_Close = msg['Adj Close']\n",
    "    Volume = msg['Volume']\n",
    "    CloseUSD = msg['CloseUSD']\n",
    "    \n",
    "    # Insert query\n",
    "    sqlQuery = \"insert into stockdata(IndexName, Date, Open, High, Low, Close, Adj_Close, Volume, CloseUSD) values(%s, %s, %s, %s, %s, %s, %s, %s, %s)\"\n",
    "    # Insert the data\n",
    "    result = cursor.execute(sqlQuery,(Index,Date,Open,High,Low,Close,Adj_Close,Volume,CloseUSD))\n",
    "    # Commit the chages\n",
    "    connection.commit()\n",
    "\n",
    "#Close the mysql connector\n",
    "connection.close()"
   ]
  }
 ],
 "metadata": {
  "kernelspec": {
   "display_name": "Python 3",
   "language": "python",
   "name": "python3"
  },
  "language_info": {
   "codemirror_mode": {
    "name": "ipython",
    "version": 3
   },
   "file_extension": ".py",
   "mimetype": "text/x-python",
   "name": "python",
   "nbconvert_exporter": "python",
   "pygments_lexer": "ipython3",
   "version": "3.13.2"
  }
 },
 "nbformat": 4,
 "nbformat_minor": 5
}
